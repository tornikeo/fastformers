{
 "cells": [
  {
   "cell_type": "code",
   "execution_count": 1,
   "id": "2a22902b-b2d8-45d5-a473-7c4038c71468",
   "metadata": {},
   "outputs": [],
   "source": [
    "import onnxruntime as ort\n",
    "import onnx"
   ]
  },
  {
   "cell_type": "code",
   "execution_count": 2,
   "id": "86295dfc-8eb6-40bc-a9b1-cb1e293c4bc4",
   "metadata": {},
   "outputs": [],
   "source": [
    "import torch \n",
    "import torch.nn as nn\n",
    "import torchvision\n",
    "import torchvision.transforms as T\n",
    "\n",
    "import tensorflow.keras as keras\n",
    "import tensorflow as tf\n",
    "\n",
    "import numpy as np\n",
    "import matplotlib.pyplot as plt"
   ]
  },
  {
   "cell_type": "code",
   "execution_count": 3,
   "id": "7e0e6d80-5f9d-40d9-a8aa-45d141b6270a",
   "metadata": {},
   "outputs": [],
   "source": [
    "def run_onnx(model_path, **kwargs):\n",
    "    kwargs = {k:np.array(v) for k,v in kwargs.items()}\n",
    "    out = ort.InferenceSession(model_path)\\\n",
    "        .run(None,input_feed=kwargs)    \n",
    "    return out"
   ]
  },
  {
   "cell_type": "code",
   "execution_count": 16,
   "id": "c076e48c-12db-4c57-a676-5a86eee5d1eb",
   "metadata": {},
   "outputs": [],
   "source": [
    "from pathlib import Path\n",
    "import json\n",
    "model_dir = Path('../../models/student-pruned-9h-900/9h-900-pruned-distilled')\n",
    "model_params = json.load((model_dir/'config.json').open())\n",
    "special_tokens = json.load((model_dir/'special_tokens_map.json').open())\n",
    "tokenizer_config = json.load((model_dir/'tokenizer_config.json').open())"
   ]
  },
  {
   "cell_type": "code",
   "execution_count": 19,
   "id": "6ac8bd5c-9757-470b-930b-0ab1417b3ac2",
   "metadata": {},
   "outputs": [
    {
     "data": {
      "text/plain": [
       "{'architectures': ['BertForSequenceClassification'],\n",
       " 'attention_head_size': 26,\n",
       " 'attention_probs_dropout_prob': 0.1,\n",
       " 'cell': {},\n",
       " 'emb_size': 312,\n",
       " 'finetuning_task': 'boolq',\n",
       " 'gradient_checkpointing': False,\n",
       " 'hidden_act': 'relu',\n",
       " 'hidden_dropout_prob': 0.1,\n",
       " 'hidden_size': 312,\n",
       " 'initializer_range': 0.02,\n",
       " 'intermediate_size': 900,\n",
       " 'layer_norm_eps': 1e-12,\n",
       " 'max_position_embeddings': 512,\n",
       " 'model_type': 'bert',\n",
       " 'num_attention_heads': 9,\n",
       " 'num_hidden_layers': 4,\n",
       " 'pad_token_id': 0,\n",
       " 'pre_trained': '',\n",
       " 'structure': [],\n",
       " 'type_vocab_size': 2,\n",
       " 'vocab_size': 30522}"
      ]
     },
     "execution_count": 19,
     "metadata": {},
     "output_type": "execute_result"
    }
   ],
   "source": []
  },
  {
   "cell_type": "code",
   "execution_count": null,
   "id": "43a8dbad-2c40-44b1-8d0a-46dde888a749",
   "metadata": {},
   "outputs": [],
   "source": [
    "# crop = T.RandomCrop(PT_IMG_SIZE[2:],pad_if_needed=True,padding_mode='reflect')\n",
    "# resize = T.Resize(PT_IMG_SIZE[2:])\n",
    "batch_dim = T.Lambda(lambda x:x[None,...])\n",
    "to_tensor = T.ToTensor()\n",
    "\n",
    "# content_tfm = T.Compose((resize, to_tensor, batch_dim))\n",
    "# style_tfm = T.Compose((resize, to_tensor, batch_dim))\n",
    "\n",
    "iters = 2\n",
    "c_inp = torch.randn(1,3,512,512)#content_tfm(c)\n",
    "s_inp = torch.randn(1,3,512,512)#style_tfm(s)\n",
    "\n",
    "with torch.no_grad():\n",
    "    c4_1 = c_inp.detach().clone()\n",
    "    s4_1 = s_inp.detach().clone()\n",
    "    for _ in range(iters):\n",
    "        c4_1, c5_1 = run_onnx('encoder.onnx', image=c4_1)\n",
    "        s4_1, s5_1 = run_onnx('encoder.onnx', image=s4_1)\n",
    "        (c_tfm,) = run_onnx('transform.onnx', c4_1=c4_1,\n",
    "                         s4_1=s4_1, c5_1=c5_1, s5_1=s5_1)\n",
    "        (c_stylized,) = run_onnx('decoder.onnx', c_tfm=c_tfm)\n",
    "        c4_1 = c_stylized#.detach().clone()\n",
    "        s4_1 = s_inp#.detach().clone()\n",
    "        c4_1 = c4_1.clip(0,1)"
   ]
  }
 ],
 "metadata": {
  "kernelspec": {
   "display_name": "Python 3 (ipykernel)",
   "language": "python",
   "name": "python3"
  },
  "language_info": {
   "codemirror_mode": {
    "name": "ipython",
    "version": 3
   },
   "file_extension": ".py",
   "mimetype": "text/x-python",
   "name": "python",
   "nbconvert_exporter": "python",
   "pygments_lexer": "ipython3",
   "version": "3.9.5"
  }
 },
 "nbformat": 4,
 "nbformat_minor": 5
}
